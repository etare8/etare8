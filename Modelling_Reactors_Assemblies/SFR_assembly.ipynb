{
 "cells": [
  {
   "cell_type": "markdown",
   "id": "f8656d08-b30f-4ec0-9f6c-baffe5d9a5f2",
   "metadata": {},
   "source": [
    "# Modelling a SFR Hexagonal Assembly\n",
    "\n",
    "In this example I will create a hexagonal bundle that is used in SFR Reactors.\n",
    "\n",
    "The code is developed using the Git Project concernig modelling SFR Reactors provided by OpenMC  ([Example Jupyter Notebooks](https://github.com/openmc-dev/openmc/wiki/Example-Jupyter-Notebooks)) as example!\n",
    "\n",
    "## References:\n",
    "* A. Facchini, V. Giusti, R. Ciolini, K. Tucek, D. Thomas, E. D'Agata, *\"Detailed Neutornics Study of the Power Evolution for the European Sodium Fast Reactor During a Positive Insertion of Reactivity\"*, Nuc. Eng. Design 313 1-9 (2017)\n",
    "* A. Ponomarev, A. Bednarova, K. Mikityuk, *\"New Sodium Fast Reactor Neutronics Benchmark\"*, PHYSOR 2018"
   ]
  },
  {
   "cell_type": "code",
   "execution_count": 1,
   "id": "bd638473-7b64-414f-b6e2-579184fe7da0",
   "metadata": {},
   "outputs": [],
   "source": [
    "import numpy as np\n",
    "import openmc"
   ]
  },
  {
   "cell_type": "code",
   "execution_count": 2,
   "id": "0262c290-1d0f-4c03-892f-8e051ca020d5",
   "metadata": {},
   "outputs": [],
   "source": [
    "#MATERIAL definition for SFR simulations\n",
    "#since we have an outer and inner region in the core, with different fuel compositions, we define single elements and then mix them\n",
    "\n",
    "#Uranium nuclides\n",
    "u238 = openmc.Material(name='U238')\n",
    "u238.add_nuclide('U238', 1.0)\n",
    "u238.set_density('g/cm3', 10.0)\n",
    "\n",
    "u235 = openmc.Material(name='U235')\n",
    "u235.add_nuclide('U235', 1.0)\n",
    "u235.set_density('g/cm3', 10.0)\n",
    "\n",
    "#Plutonium nuclides\n",
    "pu238 = openmc.Material(name='Pu238')\n",
    "pu238.add_nuclide('Pu238', 1.0)\n",
    "pu238.set_density('g/cm3', 10.0)\n",
    "\n",
    "pu239 = openmc.Material(name='Pu239')\n",
    "pu239.add_nuclide('Pu239', 1.0)\n",
    "pu239.set_density('g/cm3', 10.0)\n",
    "\n",
    "pu240 = openmc.Material(name='Pu240')\n",
    "pu240.add_nuclide('Pu240', 1.0)\n",
    "pu240.set_density('g/cm3', 10.0)\n",
    "\n",
    "pu241 = openmc.Material(name='Pu241')\n",
    "pu241.add_nuclide('Pu241', 1.0)\n",
    "pu241.set_density('g/cm3', 10.0)\n",
    "\n",
    "pu242 = openmc.Material(name='Pu242')\n",
    "pu242.add_nuclide('Pu242', 1.0)\n",
    "pu242.set_density('g/cm3', 10.0)\n",
    "\n",
    "#Minor Actinide for transmutation purposes: Americium\n",
    "am241 = openmc.Material(name='Am241')\n",
    "am241.add_nuclide('Am241', 1.0)\n",
    "am241.set_density('g/cm3', 10.0)\n",
    "\n",
    "#Oxygen\n",
    "o16 = openmc.Material(name='O16')\n",
    "o16.add_nuclide('O16', 1.0)\n",
    "o16.set_density('g/cm3', 10.0)\n",
    "\n",
    "#Helium\n",
    "helium = openmc.Material(name='Helium')\n",
    "helium.add_nuclide('He3', 4.8e-10)\n",
    "helium.add_nuclide('He4', 2.4e-04)\n",
    "\n",
    "#Sodium Na23 coolant fluid\n",
    "sodium = openmc.Material(name='Na Coolant')\n",
    "sodium.add_nuclide('Na23', 1.0)\n",
    "sodium.set_density('g/cm3', 0.96)\n",
    "\n",
    "#SS cladding made of Cu and Al2O3\n",
    "cu63 = openmc.Material(name='Cu63')\n",
    "cu63.set_density('g/cm3', 10.0)\n",
    "cu63.add_nuclide('Cu63', 1.0)\n",
    "\n",
    "Al2O3 = openmc.Material(name='Al2O3')\n",
    "Al2O3.set_density('g/cm3', 10.0)\n",
    "Al2O3.add_element('O', 3.0)\n",
    "Al2O3.add_element('Al', 2.0)\n",
    "\n",
    "#Inner region fuel, Outer region fuel, Coolant and Cladding materials\n",
    "\n",
    "fuel = openmc.Material.mix_materials(\n",
    "    [u235, u238, pu238, pu239, pu240, pu241, pu242, am241, o16],\n",
    "    [0.0019, 0.7509, 0.0046, 0.0612, 0.0383, 0.0106, 0.0134, 0.001, 0.1181],\n",
    "    'wo', name='Mixed Oxide Fuel Inner')\n",
    "\n",
    "fuel_outer = openmc.Material.mix_materials(\n",
    "    [u235, u238, pu238, pu239, pu240, pu241, pu242, am241, o16],\n",
    "    [0.0018, 0.73, 0.0053, 0.0711, 0.0445, 0.0124, 0.0156, 0.0017, 0.1176],\n",
    "    'wo')\n",
    "\n",
    "filling_gas = helium\n",
    "\n",
    "coolant = sodium\n",
    "\n",
    "cladding = openmc.Material.mix_materials(\n",
    "    [cu63, Al2O3],\n",
    "    [0.997, 0.003],\n",
    "    'wo', name='Cladding SS')\n",
    "\n",
    "#EXPORT of material definitions\n",
    "materials = openmc.Materials([fuel, fuel_outer, filling_gas, coolant, cladding])\n",
    "materials.export_to_xml()"
   ]
  },
  {
   "cell_type": "code",
   "execution_count": 3,
   "id": "11ddd5e4-287f-4656-ad32-7511bcac3952",
   "metadata": {},
   "outputs": [],
   "source": [
    "#GEOMETRY definitions\n",
    "\n",
    "#SINGLE FUEL PIN\n",
    "r1 = 0.943/2 #cm\n",
    "r2 = 0.973/2 #cm\n",
    "r3 = 1.073/2 #cm\n",
    "\n",
    "#1) planes\n",
    "fuel_cylinder = openmc.ZCylinder(r=r1)\n",
    "clad_in_cylinder = openmc.ZCylinder(r=r2)\n",
    "clad_out_cylinder = openmc.ZCylinder(r=r3)\n",
    "\n",
    "upper_limit = openmc.ZPlane(z0=+50, boundary_type='vacuum')\n",
    "lower_limit = openmc.ZPlane(z0=-50, boundary_type='vacuum')\n",
    "\n",
    "#2)regions\n",
    "fuel_region = -fuel_cylinder & -upper_limit & +lower_limit\n",
    "gap_region = +fuel_cylinder & -clad_in_cylinder & -upper_limit & +lower_limit\n",
    "clad_region =  -clad_in_cylinder & + clad_out_cylinder & -upper_limit & +lower_limit\n",
    "coolant_region = +clad_out_cylinder & -upper_limit & +lower_limit\n",
    "\n",
    "#3)Cells\n",
    "fuel_cell = openmc.Cell(fill=fuel, region=fuel_region)\n",
    "fuel_outer_cell = openmc.Cell(fill=fuel_outer, region=fuel_region)\n",
    "helium_cell = openmc.Cell(fill=filling_gas, region=gap_region)\n",
    "coolant_cell = openmc.Cell(fill=coolant, region=coolant_region)\n",
    "clad_cell = openmc.Cell(fill=cladding, region=clad_region)\n",
    "\n",
    "#4)Universes\n",
    "fuel_rod_universe = openmc.Universe(cells=[fuel_cell, helium_cell, coolant_cell, clad_cell])\n",
    "fuel_rod_outer_universe = openmc.Universe(cells=[fuel_outer_cell, helium_cell, coolant_cell, clad_cell])\n",
    "empty_cell = openmc.Cell(fill=coolant)\n",
    "empty_channel_universe = openmc.Universe(cells=[empty_cell])\n"
   ]
  },
  {
   "cell_type": "code",
   "execution_count": 4,
   "id": "3d82e3fd-6c4c-4269-8cec-c1971a664bdc",
   "metadata": {},
   "outputs": [
    {
     "name": "stderr",
     "output_type": "stream",
     "text": [
      "/usr/local/lib/python3.9/dist-packages/openmc/model/funcs.py:124: FutureWarning: The hexagonal_prism(...) function has been replaced by the HexagonalPrism(...) class. Future versions of OpenMC will not accept hexagonal_prism.\n",
      "  warn(\"The hexagonal_prism(...) function has been replaced by the \"\n",
      "/usr/local/lib/python3.9/dist-packages/openmc/model/funcs.py:114: FutureWarning: The rectangular_prism(...) function has been replaced by the RectangularPrism(...) class. Future versions of OpenMC will not accept rectangular_prism.\n",
      "  warn(\"The rectangular_prism(...) function has been replaced by the \"\n"
     ]
    }
   ],
   "source": [
    "#ASSEMBLIES: now we can create different assemblies that are characterized by different positions of sub-channels\n",
    "pitch = 1.24 #cm\n",
    "assembly_pitch = pitch*17\n",
    "\n",
    "#1) INNER POSITION FUEL ASSEMBILIES\n",
    "fuel_assembly_lat = openmc.HexLattice(name='Inner Position Lattice')\n",
    "fuel_assembly_lat.center = (0, 0)\n",
    "fuel_assembly_lat.pitch = (pitch,)\n",
    "fuel_assembly_lat.orientation = 'x'\n",
    "fuel_assembly_lat.outer = empty_channel_universe\n",
    "\n",
    "#hexagonal lattice requires rings: number of universes per each ring from outside to inside\n",
    "number_rings = [48, 42, 36, 30, 24, 18, 12, 6, 1]\n",
    "ring_1 = [fuel_rod_universe]*number_rings[0]\n",
    "ring_2 = [fuel_rod_universe]*number_rings[1]\n",
    "ring_3 = [fuel_rod_universe]*number_rings[2]\n",
    "ring_4 = [fuel_rod_universe]*number_rings[3]\n",
    "ring_5 = [fuel_rod_universe]*number_rings[4]\n",
    "ring_6 = [fuel_rod_universe]*number_rings[5]\n",
    "ring_7 = [fuel_rod_universe]*number_rings[6]\n",
    "ring_8 = [fuel_rod_universe]*number_rings[7]\n",
    "ring_9 = [fuel_rod_universe]*number_rings[8]\n",
    "#describe the lattice position by position filled with universes of the desired type\n",
    "fuel_assembly_lat.universes = [ring_1, ring_2, ring_3, ring_4, ring_5, ring_6, ring_7, ring_8, ring_9]\n",
    "\n",
    "#The assembly must be defined as a Universe made by a Cell filled by the assembly lattice and a Cell filled with the coolant\n",
    "#the separation region is defined as a Hexagonal Prism\n",
    "separation_surf_assembly = openmc.model.hexagonal_prism(edge_length=12.1705, orientation='x', boundary_type='vacuum')\n",
    "outer_boundary = openmc.model.rectangular_prism(width=30, height=30, origin=(0,0), boundary_type='reflective')\n",
    "#Cell filled with the Assembly\n",
    "fuel_assembly_cell = openmc.Cell(fill=fuel_assembly_lat, region=separation_surf_assembly & -upper_limit & +lower_limit)\n",
    "#Cell filled with what surrounds the Assembly, the coolant\n",
    "fuel_assembly_outside = openmc.Cell(fill=coolant, region=~separation_surf_assembly & -upper_limit & +lower_limit & outer_boundary)\n",
    "\n",
    "#Complete ASSEMBLY UNIVERSE made by: assembly fuel rods + sodium around the assembly to infinity, and separation surface\n",
    "fuel_assembly_universe = openmc.Universe(cells=[fuel_assembly_cell, fuel_assembly_outside])\n",
    "\n",
    "#EXPORT GEOMETRIES\n",
    "geometry = openmc.Geometry(fuel_assembly_universe)\n",
    "geometry.export_to_xml()"
   ]
  },
  {
   "cell_type": "code",
   "execution_count": 5,
   "id": "e93e569b-70bf-4e94-b8eb-41af9f5aafd3",
   "metadata": {},
   "outputs": [
    {
     "data": {
      "text/plain": [
       "<Axes: xlabel='x [cm]', ylabel='y [cm]'>"
      ]
     },
     "execution_count": 5,
     "metadata": {},
     "output_type": "execute_result"
    },
    {
     "data": {
      "image/png": "[encoded data removed]",
      "text/plain": [
       "<Figure size 516.129x519.481 with 1 Axes>"
      ]
     },
     "metadata": {},
     "output_type": "display_data"
    }
   ],
   "source": [
    "fuel_assembly_universe.plot(origin = (0,0,0),\n",
    "                            pixels =(400, 400),\n",
    "                            width = (30.,30.),\n",
    "                            color_by = 'material')"
   ]
  },
  {
   "cell_type": "code",
   "execution_count": 6,
   "id": "d765b81b-647b-491c-baab-24024597e202",
   "metadata": {},
   "outputs": [
    {
     "name": "stderr",
     "output_type": "stream",
     "text": [
      "/usr/local/lib/python3.9/dist-packages/openmc/source.py:390: FutureWarning: This class is deprecated in favor of 'IndependentSource'\n",
      "  warnings.warn(\"This class is deprecated in favor of 'IndependentSource'\", FutureWarning)\n"
     ]
    }
   ],
   "source": [
    "#OPENMC SIMULATION PARAMETERS definition\n",
    "\n",
    "#Source must be set: we create a uniform spatial source distribution over fissionable zones\n",
    "lower_left = (-assembly_pitch/2, -assembly_pitch/2, -50)\n",
    "upper_right = (assembly_pitch, assembly_pitch, +50)\n",
    "uniform_distr = openmc.stats.Box(lower_left, upper_right, only_fissionable=True)\n",
    "src = openmc.Source(space=uniform_distr)\n",
    "\n",
    "#Settings indicate number of particles, active and inactive cycles\n",
    "settings = openmc.Settings()\n",
    "\n",
    "settings.source = src\n",
    "settings.particles = 1000 # number of Neutrons per cycles\n",
    "settings.batches = 100 #Total number of cycles\n",
    "settings.inactive = 10 #Number of inactive cycles\n",
    "\n",
    "settings.export_to_xml()"
   ]
  },
  {
   "cell_type": "code",
   "execution_count": 7,
   "id": "f74c90e2-a40e-496c-a36f-1ac564c4b2e3",
   "metadata": {},
   "outputs": [],
   "source": [
    "#RUNNING OpenMC\n",
    "#openmc.run()"
   ]
  }
 ],
 "metadata": {
  "kernelspec": {
   "display_name": "Python 3 (ipykernel)",
   "language": "python",
   "name": "python3"
  },
  "language_info": {
   "codemirror_mode": {
    "name": "ipython",
    "version": 3
   },
   "file_extension": ".py",
   "mimetype": "text/x-python",
   "name": "python",
   "nbconvert_exporter": "python",
   "pygments_lexer": "ipython3",
   "version": "3.9.2"
  }
 },
 "nbformat": 4,
 "nbformat_minor": 5
}
