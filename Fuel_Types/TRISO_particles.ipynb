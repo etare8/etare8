{
 "cells": [
  {
   "cell_type": "markdown",
   "id": "65790cac-5117-471d-b3b8-07eeebb5fe8b",
   "metadata": {},
   "source": [
    "## Modelling TRISO Particles in a Graphite Matrix\n",
    "\n",
    "We have to create a Universe representing the single TRISO particle, composed by:\n",
    "* Outer Pyrolitic Carbide (OPyC)\n",
    "* Silicon-Carbide (SiC)\n",
    "* Inner Pyrolitic Carbide (IPyC)\n",
    "* Porous Carbon Buffer (C)\n",
    "* UOC Kernel\n",
    "\n",
    "After creating the TRISO particle universe, we have to define a space cube and an number of randomly generated sphere locations where we can place spheres of a certain defined outer radius such that a packing fraction is respected. This can be done using *openmc.model.pack_spheres*, which returns the coordinates of the generated centers associated to the spheres necessary to fill the given area. These centers must be used to position the TRISO universes within the lattice; fo each center we have to use *openmc.model.TRISO(outer_radius, TRISO_univ, center)* to create a TRISO particle object which is a Cell with the position given by the randomly assigned center.\n",
    "\n",
    "The final step will be to create a Cell with a region equal to that used to generate random sphere locations, and filled with a lattice of TRISO particles, using *openmc.model.create_triso_lattice()*"
   ]
  },
  {
   "cell_type": "code",
   "execution_count": 1,
   "id": "faf5192f-539f-4217-9e85-ea224cba9095",
   "metadata": {},
   "outputs": [],
   "source": [
    "import openmc\n",
    "import matplotlib.pyplot as plt\n",
    "import numpy as np"
   ]
  },
  {
   "cell_type": "markdown",
   "id": "40fb4757-1d6d-4dcc-9d32-587013007e9c",
   "metadata": {},
   "source": [
    "## Materials Definition"
   ]
  },
  {
   "cell_type": "code",
   "execution_count": 2,
   "id": "ba6e9a9a-9b40-4da9-826d-ee7c5d180310",
   "metadata": {},
   "outputs": [],
   "source": [
    "# Materials\n",
    "\n",
    "# Fuel Kernel of UCO TRISO-coated fuel particle\n",
    "# atom ratio: O-to-U=1.5, C-to-U=0.4\n",
    "e = 0.15\n",
    "kernel = openmc.Material(name='Fuel Kernel')\n",
    "kernel.add_nuclide('U235', e*3.3e-1) # U235 enrichment 15% in weight\n",
    "kernel.add_nuclide('U238', (3.3e-1)*(1.0-e))\n",
    "kernel.add_nuclide('O16', 5e-1)\n",
    "kernel.add_element('C', 1.3e-1)\n",
    "kernel.set_density('g/cm3', 11.0)\n",
    "\n",
    "# Porous Carbon Buffer\n",
    "buffer = openmc.Material(name='Porous Buffer')\n",
    "buffer.add_element('C', 1.0)\n",
    "buffer.set_density('g/cm3', 1.0)\n",
    "buffer.add_s_alpha_beta('c_Graphite') # element is very influent on scattering\n",
    "\n",
    "# Inner Pyrolitic Carbide\n",
    "IPyC = openmc.Material(name='Inner Pyrolitic Carbide')\n",
    "IPyC.add_element('C', 1.0)\n",
    "IPyC.set_density('g/cm3', 1.9)\n",
    "IPyC.add_s_alpha_beta('c_Graphite')\n",
    "\n",
    "# Silicon Carbide\n",
    "SiC = openmc.Material(name='Silicon Carbide')\n",
    "SiC.add_element('C', 0.5)\n",
    "SiC.add_element('Si', 0.5)\n",
    "SiC.set_density('g/cm3', 3)\n",
    "\n",
    "# Outer Pyrolitic Carbide\n",
    "OPyC = openmc.Material(name='Outer Pyrolitic Carbide')\n",
    "OPyC.add_element('C', 1.0)\n",
    "OPyC.set_density('g/cm3', 1.9)\n",
    "OPyC.add_s_alpha_beta('c_Graphite')\n",
    "\n",
    "# Graphite of the Lattice Matrix in which we distribute the TRISO particles\n",
    "graphite = openmc.Material()\n",
    "graphite.add_element('C', 1.0)\n",
    "graphite.set_density('g/cm3', 1.2)\n",
    "graphite.add_s_alpha_beta('c_Graphite')\n",
    "\n",
    "materials = openmc.Materials([kernel, buffer, IPyC, SiC, OPyC, graphite])\n",
    "materials.export_to_xml()"
   ]
  },
  {
   "cell_type": "markdown",
   "id": "5bb219e0-37fb-4bc9-a61c-d590312af137",
   "metadata": {},
   "source": [
    "## Geometry - TRISO particle universe"
   ]
  },
  {
   "cell_type": "code",
   "execution_count": 3,
   "id": "401c22f0-9d4e-4132-9e0c-681dd83102d7",
   "metadata": {},
   "outputs": [],
   "source": [
    "# GEOMETRY for TRISO particles\n",
    "r_kernel = 210e-4 #cm = 210micron\n",
    "r_buffer = 310e-4 #cm\n",
    "r_ipc = 350e-4    #cm\n",
    "r_sic = 390e-4    #cm\n",
    "r_opc = 430e-4    #cm\n",
    "\n",
    "# Spherical regions\n",
    "radii = [r_kernel, r_buffer, r_ipc, r_sic, r_opc]\n",
    "spheres = [openmc.Sphere(r=radius) for radius in radii]\n",
    "\n",
    "# Cells\n",
    "kernel_cell = openmc.Cell(fill=kernel, region=-spheres[0])\n",
    "buffer_cell = openmc.Cell(fill=buffer, region=+spheres[0] & -spheres[1])\n",
    "IPyC_cell = openmc.Cell(fill=IPyC, region=+spheres[1] & -spheres[2])\n",
    "SiC_cell = openmc.Cell(fill=SiC, region=+spheres[2] & -spheres[3])\n",
    "OPyC_cell = openmc.Cell(fill=OPyC, region=+spheres[3] & -spheres[4])\n",
    "\n",
    "TRISO_cells = [kernel_cell, buffer_cell, IPyC_cell, SiC_cell, OPyC_cell]\n",
    "\n",
    "# Defining the Universe TRISO particle!!!\n",
    "TRISO_universe = openmc.Universe(cells=TRISO_cells)"
   ]
  },
  {
   "cell_type": "markdown",
   "id": "a20abd5c-601f-4fd7-a6a3-a37414ca4d71",
   "metadata": {},
   "source": [
    "## Geometry - Packing Spheres"
   ]
  },
  {
   "cell_type": "code",
   "execution_count": 4,
   "id": "8a59f8eb-63d0-4262-9302-c81aa3302121",
   "metadata": {},
   "outputs": [],
   "source": [
    "# Box region\n",
    "min_x = openmc.XPlane(x0=-0.5, boundary_type='reflective')\n",
    "max_x = openmc.XPlane(x0=0.5, boundary_type='reflective')\n",
    "min_y = openmc.YPlane(y0=-0.5, boundary_type='reflective')\n",
    "max_y = openmc.YPlane(y0=0.5, boundary_type='reflective')\n",
    "min_z = openmc.ZPlane(z0=-0.5, boundary_type='reflective')\n",
    "max_z = openmc.ZPlane(z0=0.5, boundary_type='reflective')\n",
    "cylinder = openmc.ZCylinder(r=0.5, boundary_type='reflective')\n",
    "\n",
    "# Lattice 1 is a cube that defines where we will put our TRISOs\n",
    "lattice_region = (-max_x & -max_y & -max_z) & (+min_x & +min_y & +min_z)\n",
    "# Lattice 2 has a cylindrical shape!!! Which is actually equal to that of a pellet!!!\n",
    "lattice_region2 = -cylinder & -max_z & +min_z\n",
    "\n",
    "# radius of each sphere = OPyC radius\n",
    "outer_radius = radii[-1]\n",
    "\n",
    "# Operation of centers generation using pack_spheres\n",
    "# packing_fraction (pf)=30%, seed=124848351\n",
    "centers = openmc.model.pack_spheres(radius=outer_radius, region=lattice_region2, pf=0.3, seed=124848351)"
   ]
  },
  {
   "cell_type": "code",
   "execution_count": 5,
   "id": "2a85ec01-a5a9-4564-9e71-04e3c5b12b14",
   "metadata": {},
   "outputs": [],
   "source": [
    "# Generation of TRISO particles and positioning where centers are defined\n",
    "TRISOs = [openmc.model.TRISO(outer_radius=outer_radius,\n",
    "                             fill=TRISO_universe,\n",
    "                             center=center_xyz) for center_xyz in centers]\n",
    "# We have generated a TRISO particle object made of a TRISO particle universe (layers) and a coordinate position"
   ]
  },
  {
   "cell_type": "markdown",
   "id": "cbf22594-dc63-40d4-af67-663db95d8716",
   "metadata": {},
   "source": [
    "## Geometry - Lattice Definition"
   ]
  },
  {
   "cell_type": "code",
   "execution_count": 6,
   "id": "a2daf8f8-8edf-40d7-8582-5a75468bb1d0",
   "metadata": {},
   "outputs": [],
   "source": [
    "# Box Cell Definition\n",
    "box = openmc.Cell(region = lattice_region2)\n",
    "\n",
    "trisos = TRISOs\n",
    "lower_left = [-0.5, -0.5, -0.5]\n",
    "pitch = [1/3, 1/3, 1/3]\n",
    "shape = (3, 3, 3)\n",
    "\n",
    "# Lattice definition which can be used as a openmc.Matrial within the Box Cell\n",
    "lattice = openmc.model.create_triso_lattice(trisos=trisos,\n",
    "                                            lower_left=lower_left,\n",
    "                                            pitch=pitch,\n",
    "                                            shape=shape,\n",
    "                                            background=graphite)\n",
    "# Filling the Box Cell\n",
    "box.fill = lattice\n",
    "# Universe for the Lattice of TRISO particles\n",
    "lattice_universe = openmc.Universe(cells=[box])"
   ]
  },
  {
   "cell_type": "code",
   "execution_count": 7,
   "id": "79021dc9-4b8f-4bd9-8bcf-78ee119b64c7",
   "metadata": {},
   "outputs": [],
   "source": [
    "# EXPORT Geometry\n",
    "geometry = openmc.Geometry(lattice_universe)\n",
    "geometry.export_to_xml()"
   ]
  },
  {
   "cell_type": "markdown",
   "id": "54da7473-3496-484b-8c1b-e45dd97a286d",
   "metadata": {},
   "source": [
    "## Plotting the Lattice of TRISO particles"
   ]
  },
  {
   "cell_type": "code",
   "execution_count": 8,
   "id": "65c05906-a0ef-4a99-86eb-199d990881a1",
   "metadata": {},
   "outputs": [
    {
     "data": {
      "image/png": "[encoded data removed]",
      "text/plain": [
       "<IPython.core.display.Image object>"
      ]
     },
     "metadata": {},
     "output_type": "display_data"
    },
    {
     "data": {
      "image/png": "[encoded data removed]",
      "text/plain": [
       "<IPython.core.display.Image object>"
      ]
     },
     "metadata": {},
     "output_type": "display_data"
    }
   ],
   "source": [
    "# Plotting XY - Cylindrical Lattice like Pellets\n",
    "plot1 = openmc.Plot.from_geometry(geometry)\n",
    "plot1.basis = 'xy'\n",
    "plot1.center = (0,0,0)\n",
    "plot1.width = (1,1)\n",
    "plot1.color_by = 'material'\n",
    "plot1.colors = {kernel:(255,0,0), buffer:(0,0,200), IPyC:(150,0,255), SiC:(200,0,0), OPyC:(0,50,255), graphite:(180,180,180)}\n",
    "\n",
    "# Plotting XZ\n",
    "plot2 = openmc.Plot.from_geometry(geometry)\n",
    "plot2.basis = 'xz'\n",
    "plot2.center = (0,0,0)\n",
    "plot2.width = (1,1)\n",
    "plot2.color_by = 'material'\n",
    "plot2.colors = {kernel:(255,0,0), buffer:(0,0,200), IPyC:(150,0,255), SiC:(200,0,0), OPyC:(0,50,255), graphite:(180,180,180)}\n",
    "\n",
    "plots = openmc.Plots([plot1, plot2])\n",
    "openmc.plot_inline(plots)"
   ]
  }
 ],
 "metadata": {
  "kernelspec": {
   "display_name": "Python 3 (ipykernel)",
   "language": "python",
   "name": "python3"
  },
  "language_info": {
   "codemirror_mode": {
    "name": "ipython",
    "version": 3
   },
   "file_extension": ".py",
   "mimetype": "text/x-python",
   "name": "python",
   "nbconvert_exporter": "python",
   "pygments_lexer": "ipython3",
   "version": "3.9.2"
  }
 },
 "nbformat": 4,
 "nbformat_minor": 5
}
